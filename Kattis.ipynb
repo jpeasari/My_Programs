{
 "cells": [
  {
   "cell_type": "markdown",
   "metadata": {},
   "source": [
    "## The Easiest Problem Is This One\n",
    "https://open.kattis.com/problems/easiest"
   ]
  },
  {
   "cell_type": "code",
   "execution_count": null,
   "metadata": {},
   "outputs": [],
   "source": [
    "lst = []\n",
    "sum1 = 0\n",
    "sum2 = 0\n",
    "x = True\n",
    "while x:\n",
    "    user_input = int(input())\n",
    "    if user_input==0:\n",
    "        x = False\n",
    "    else:\n",
    "        for i in str(user_input):\n",
    "            sum1 = sum1 + int(i)\n",
    "        for i in range(11,10001):\n",
    "            product = str(user_input * i)\n",
    "            for j in product:\n",
    "                sum2 = sum2 + int(j)\n",
    "            if sum2 == sum1:\n",
    "                lst.append(i)\n",
    "                break\n",
    "            else:\n",
    "                sum2 = 0\n",
    "        sum1=0\n",
    "for i in lst:\n",
    "    print(i)\n"
   ]
  },
  {
   "cell_type": "markdown",
   "metadata": {},
   "source": [
    "## Speed Limit\n",
    "https://open.kattis.com/problems/speedlimit"
   ]
  },
  {
   "cell_type": "code",
   "execution_count": null,
   "metadata": {},
   "outputs": [],
   "source": [
    "\n",
    "def speed_limit(mph,time):\n",
    "    dis = 0\n",
    "    for index,(i,j) in enumerate(zip(mph,time)):\n",
    "        if index == 0:\n",
    "            dis = mph[index] * time[index]\n",
    "        elif index != 0:\n",
    "            dis = dis + (mph[index] * (time[index]-time[index-1]))\n",
    "    return dis\n",
    "\n",
    "\n",
    "miles = []\n",
    "\n",
    "x = 1\n",
    "while x:\n",
    "    mph = []\n",
    "    time =[]\n",
    "    values = int(input())\n",
    "    if values == -1:\n",
    "        x = 0\n",
    "    else:\n",
    "        for i in range(values):\n",
    "            a,b = map(int, input().split(' '))\n",
    "            mph.append(a)\n",
    "            time.append(b)\n",
    "        distance = speed_limit(mph,time)\n",
    "        miles.append(distance)\n",
    "for i in miles:\n",
    "    print(str(i) + \" \" + \"miles\")\n"
   ]
  },
  {
   "cell_type": "markdown",
   "metadata": {},
   "source": [
    "## Quick Brown Fox\n",
    "https://open.kattis.com/problems/quickbrownfox"
   ]
  },
  {
   "cell_type": "code",
   "execution_count": null,
   "metadata": {},
   "outputs": [],
   "source": [
    "\n",
    "\"\"\" 3\n",
    "The quick brown fox jumps over the lazy dog.\n",
    "ZYXW, vu TSR Ponm lkj ihgfd CBA.\n",
    ".,?!'\" 92384 abcde FGHIJ \"\"\"\n",
    "import re\n",
    "phrase = []\n",
    "st = \"\"\n",
    "abc = \"abcdefghijklmnopqrstuvwxyz\"\n",
    "cases = int(input())\n",
    "for i in range(cases):\n",
    "    lst = input().split(\" \")\n",
    "    lst =''.join(lst)\n",
    "    lst2 =  \"\".join(re.split(\"[^a-zA-Z]*\", lst))\n",
    "    for i in abc:\n",
    "        if i not in lst2.lower():\n",
    "            st = st + i\n",
    "    if st == \"\":\n",
    "        phrase.append(\"pangram\")\n",
    "    else:\n",
    "        phrase.append((\"missing\" + \" \" + st))\n",
    "    lst,lst2 = 0,0\n",
    "    st = \"\"\n",
    "\n",
    "for j in phrase:\n",
    "    print(j)\n",
    "\n",
    "\n",
    "\n",
    "#%%\n",
    "from itertools import combinations\n",
    "string = \"abadef\"\n",
    "string2 = string[::-1]\n",
    "lst = []\n",
    "lst2 =[]\n",
    "strings = []\n",
    "def get_all_substrings_2(string):\n",
    "    length = len(string) + 1\n",
    "    for x, y in combinations(range(length), r=2):\n",
    "        lst.append((string[x:y]))\n",
    "    return lst\n",
    "x = get_all_substrings_2(string2)\n",
    "for i in lst:\n",
    "    if len(i) != 1:\n",
    "        lst2.append(i)\n",
    "        \n",
    "for i in lst2:\n",
    "    if i in string:\n",
    "        strings.append(i)\n",
    "print(max(strings))     "
   ]
  }
 ],
 "metadata": {
  "kernelspec": {
   "display_name": "Python 3",
   "language": "python",
   "name": "python3"
  },
  "language_info": {
   "codemirror_mode": {
    "name": "ipython",
    "version": 3
   },
   "file_extension": ".py",
   "mimetype": "text/x-python",
   "name": "python",
   "nbconvert_exporter": "python",
   "pygments_lexer": "ipython3",
   "version": "3.7.6"
  }
 },
 "nbformat": 4,
 "nbformat_minor": 4
}
