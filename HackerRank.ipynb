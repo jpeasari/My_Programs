{
 "cells": [
  {
   "cell_type": "markdown",
   "metadata": {},
   "source": [
    "## Hackerrank - Python\n",
    "https://www.hackerrank.com/domains/python?badge_type=python"
   ]
  },
  {
   "cell_type": "code",
   "execution_count": 63,
   "metadata": {},
   "outputs": [
    {
     "name": "stdout",
     "output_type": "stream",
     "text": [
      "Not Weird\n"
     ]
    }
   ],
   "source": [
    "## if...else\n",
    "num = 20\n",
    "if num%2 != 0:\n",
    "    print(\"Weird\")\n",
    "else:\n",
    "    \n",
    "    if (num >= 2 & num <=5):\n",
    "        print(\"Not Weird\")\n",
    "    elif (num >= 6 & num <=20):\n",
    "        print(\"Weird\")\n",
    "    else:\n",
    "        print(\"Not Weird\")\n",
    "   \n"
   ]
  },
  {
   "cell_type": "code",
   "execution_count": 66,
   "metadata": {},
   "outputs": [
    {
     "name": "stdout",
     "output_type": "stream",
     "text": [
      "6887676987\n",
      "6241172063\n",
      "2121966389319430550\n"
     ]
    }
   ],
   "source": [
    "##\n",
    "def add_sub_mul(a,b):\n",
    "    print(a+b)\n",
    "    print(a-b)\n",
    "    print(a*b)\n",
    "add_sub_mul(6564424525,323252462)"
   ]
  },
  {
   "cell_type": "code",
   "execution_count": 67,
   "metadata": {},
   "outputs": [
    {
     "name": "stdout",
     "output_type": "stream",
     "text": [
      "4\n",
      "3\n",
      "1\n",
      "1.3333333333333333\n"
     ]
    }
   ],
   "source": [
    "### Division\n",
    "\n",
    "a = int(input())\n",
    "b = int(input())\n",
    "\n",
    "print(a//b)\n",
    "print(a/b)\n",
    "\n",
    "\n"
   ]
  },
  {
   "cell_type": "code",
   "execution_count": 70,
   "metadata": {},
   "outputs": [
    {
     "name": "stdout",
     "output_type": "stream",
     "text": [
      "5\n",
      "0\n",
      "1\n",
      "4\n",
      "9\n",
      "16\n"
     ]
    }
   ],
   "source": [
    "## Loops\n",
    "a = int(input())\n",
    "for i in range(a):\n",
    "    print(i*i)\n",
    "\n"
   ]
  },
  {
   "cell_type": "code",
   "execution_count": 97,
   "metadata": {},
   "outputs": [
    {
     "name": "stdout",
     "output_type": "stream",
     "text": [
      "2100\n",
      "False\n"
     ]
    }
   ],
   "source": [
    "## Write a function\n",
    "a = int(input())\n",
    "if (a%4 == 0 and a%400==0):\n",
    "    leap=True\n",
    "elif (a%100 ==0):\n",
    "    leap=False\n",
    "\n"
   ]
  },
  {
   "cell_type": "code",
   "execution_count": 123,
   "metadata": {},
   "outputs": [
    {
     "name": "stdout",
     "output_type": "stream",
     "text": [
      "2100\n",
      "False\n"
     ]
    }
   ],
   "source": [
    "## Leap Year\n",
    "def is_leap(year):\n",
    "    if (year%400 == 0):\n",
    "        return True\n",
    "    if (year%100 ==0):\n",
    "        return False\n",
    "    if (year%4 == 0):\n",
    "        return True\n",
    " \n",
    "    return False\n",
    "\n",
    "year = int(input())\n",
    "print(is_leap(year))"
   ]
  },
  {
   "cell_type": "code",
   "execution_count": 133,
   "metadata": {},
   "outputs": [
    {
     "name": "stdout",
     "output_type": "stream",
     "text": [
      "17\n",
      "7\n",
      "(17, 7)\n"
     ]
    }
   ],
   "source": [
    "## Mod Divmod\n",
    "def div_mod(a,b):\n",
    "    print(a//b)\n",
    "    print(a%b)\n",
    "    x = a//b\n",
    "    y= a%b\n",
    "    print((x,y))\n",
    "div_mod(177,10)\n",
    "\n"
   ]
  },
  {
   "cell_type": "code",
   "execution_count": 135,
   "metadata": {},
   "outputs": [
    {
     "name": "stdout",
     "output_type": "stream",
     "text": [
      "3\n",
      "4\n",
      "5\n",
      "81\n",
      "1\n"
     ]
    }
   ],
   "source": [
    "## Mod Power\n",
    "import math\n",
    "def power(a,b,c):\n",
    "    p = pow(a,b)\n",
    "    print(p)\n",
    "    print(p%c)\n",
    "a = int(input())\n",
    "b = int(input())\n",
    "c = int(input())\n",
    "\n",
    "power(a,b,c)\n",
    "          "
   ]
  },
  {
   "cell_type": "code",
   "execution_count": 171,
   "metadata": {},
   "outputs": [
    {
     "name": "stdout",
     "output_type": "stream",
     "text": [
      "john\n",
      "J\n",
      "O\n",
      "H\n",
      "N\n"
     ]
    }
   ],
   "source": [
    "### Swap case\n",
    "string = input()\n",
    "for i in string:\n",
    "    if \"A\" <= i <= \"Z\":\n",
    "        l = i.lower()\n",
    "        print(l)\n",
    "    elif \"a\" <= i <= \"z\":\n",
    "        u = i.upper()\n",
    "        print(u)\n",
    "   \n"
   ]
  },
  {
   "cell_type": "code",
   "execution_count": 27,
   "metadata": {},
   "outputs": [
    {
     "name": "stdout",
     "output_type": "stream",
     "text": [
      "John_reddy@Peesari2019\n",
      "j\n",
      "O\n",
      "H\n",
      "N\n",
      "_\n",
      "R\n",
      "E\n",
      "D\n",
      "D\n",
      "Y\n",
      "@\n",
      "p\n",
      "E\n",
      "E\n",
      "S\n",
      "A\n",
      "R\n",
      "I\n",
      "2\n",
      "0\n",
      "1\n",
      "9\n",
      "None\n"
     ]
    }
   ],
   "source": [
    "def swap_case(s):\n",
    "    for i in s:\n",
    "        if \"A\" <= i <= \"Z\":\n",
    "            l = i.lower()\n",
    "            print(l)\n",
    "        elif \"a\" <= i <= \"z\":\n",
    "            u = i.upper()\n",
    "            print(u)\n",
    "        else:\n",
    "            print(i)\n",
    "        \n",
    "if __name__ == '__main__':\n",
    "    s = input()\n",
    "    result = swap_case(s)\n",
    "    print(result)\n",
    "    \n"
   ]
  },
  {
   "cell_type": "code",
   "execution_count": 91,
   "metadata": {},
   "outputs": [
    {
     "name": "stdout",
     "output_type": "stream",
     "text": [
      "3\n",
      "-10 0 10\n",
      "[-10, 0, 10]\n",
      "0\n"
     ]
    }
   ],
   "source": [
    "## Runner_Up\n",
    "n = int(input())\n",
    "A = map(int, input().split())\n",
    "A=list(A)\n",
    "A.sort()\n",
    "print(A)\n",
    "my_list = list(set(A))\n",
    "# print(\"Two\",my_list)\n",
    "my_list.sort()\n",
    "# print(\"Sort_again,\",my_list)\n",
    "ln = len(my_list)\n",
    "# print(\"Three\",ln)\n",
    "x = n -ln\n",
    "# print(\"Four\",my_list[-2])\n",
    "if (ln == n):\n",
    "    print(A[-2])\n",
    "elif (ln < n):\n",
    "    x = ln-1\n",
    "    print(my_list[-2])\n",
    "elif (n - ln == 1):\n",
    "    print(my_list[0])\n"
   ]
  },
  {
   "cell_type": "code",
   "execution_count": 228,
   "metadata": {},
   "outputs": [
    {
     "name": "stdout",
     "output_type": "stream",
     "text": [
      "5\n",
      "Harsh\n",
      "20\n",
      "Beria\n",
      "20\n",
      "Varun\n",
      "19\n",
      "Kakunami\n",
      "19\n",
      "Vikas\n",
      "21\n",
      "[['Harsh', 20.0], ['Beria', 20.0], ['Varun', 19.0], ['Kakunami', 19.0], ['Vikas', 21.0]]\n"
     ]
    }
   ],
   "source": [
    "########## Nested Lists\n",
    "total = []\n",
    "if __name__ == '__main__':\n",
    "    for _ in range(int(input())):\n",
    "        name = input()\n",
    "        score = float(input())\n",
    "        total.append([name,score])\n",
    "    print(total)"
   ]
  },
  {
   "cell_type": "code",
   "execution_count": null,
   "metadata": {},
   "outputs": [],
   "source": []
  },
  {
   "cell_type": "code",
   "execution_count": 232,
   "metadata": {},
   "outputs": [
    {
     "name": "stdout",
     "output_type": "stream",
     "text": [
      "[['Varun', 19.0], ['Kakunami', 19.0], ['Harsh', 20.0], ['Beria', 20.0], ['Vikas', 21.0]]\n",
      "Beria\n",
      "Harsh\n"
     ]
    }
   ],
   "source": [
    "\n",
    "strr = []\n",
    "total.sort(key=lambda x:x[1]) ## Sort tuples of list\n",
    "print(total)\n",
    "ln = len(total)\n",
    "for j in range(ln):\n",
    "     if j!=ln-1 and total[0][1] == total[1][1] and total[2][1] == total[3][1]:\n",
    "        strr.append([total[2][0],total[3][0]])\n",
    "     elif j!=ln-1 and total[0][1] == total[1][1] == total[2][1]:\n",
    "        strr.append([total[4][0]])\n",
    "     elif j!=ln-1 and total[1][1] == total[j+1][1]:\n",
    "        strr.append([total[j+1][0]])\n",
    "     elif (j==ln+1):\n",
    "        pass\n",
    "    \n",
    "if len(strr)==2:\n",
    "    sort = sorted(strr)\n",
    "    for i in sort:\n",
    "        print(*i)\n",
    "else:\n",
    "\n",
    "    a = sorted(strr)\n",
    "    a = a[0]\n",
    "    a.sort()\n",
    "    for i in a:\n",
    "        print(i)\n",
    "\n"
   ]
  },
  {
   "cell_type": "code",
   "execution_count": 233,
   "metadata": {},
   "outputs": [
    {
     "name": "stdout",
     "output_type": "stream",
     "text": [
      "4\n",
      "Rachel\n",
      "-50\n",
      "Mawer\n",
      "-50\n",
      "Sheen\n",
      "-50\n",
      "Shaheen\n",
      "51\n",
      "[['Rachel', -50.0], ['Mawer', -50.0], ['Sheen', -50.0], ['Shaheen', 51.0]]\n"
     ]
    }
   ],
   "source": [
    "########## Nested Lists\n",
    "total = []\n",
    "if __name__ == '__main__':\n",
    "    for _ in range(int(input())):\n",
    "        name = input()\n",
    "        score = float(input())\n",
    "        total.append([name,score])\n",
    "    print(total)"
   ]
  },
  {
   "cell_type": "code",
   "execution_count": null,
   "metadata": {},
   "outputs": [],
   "source": [
    "4\n",
    "Rachel\n",
    "-50\n",
    "Mawer\n",
    "-50\n",
    "Sheen\n",
    "-50\n",
    "Shaheen\n",
    "51"
   ]
  },
  {
   "cell_type": "markdown",
   "metadata": {},
   "source": [
    "##### "
   ]
  },
  {
   "cell_type": "code",
   "execution_count": 239,
   "metadata": {},
   "outputs": [
    {
     "name": "stdout",
     "output_type": "stream",
     "text": [
      "[['Rachel', -50.0], ['Mawer', -50.0], ['Sheen', -50.0], ['Shaheen', 51.0]]\n",
      "Shaheen\n"
     ]
    }
   ],
   "source": [
    "strr = []\n",
    "total.sort(key=lambda x:x[1]) ## Sort tuples of list\n",
    "print(total)\n",
    "ln = len(total)\n",
    "for j in range(ln):\n",
    "     if j!=ln-1 and total[0][1] == total[1][1] and total[2][1] == total[3][1]:\n",
    "        strr.append([total[2][0],total[3][0]])\n",
    "     elif j!=ln-1 and total[0][1] == total[1][1] == total[2][1]:\n",
    "        strr.append([total[3][0]])\n",
    "     elif j!=ln-1 and total[1][1] == total[j+1][1]:\n",
    "        strr.append([total[j+1][0]])\n",
    "     elif (j==ln+1):\n",
    "        pass\n",
    "sort = sorted(strr)\n",
    "    \n",
    "if (len(strr)==2):\n",
    "    sort = sorted(strr)\n",
    "    for i in sort:\n",
    "        print(*i)\n",
    "elif (len(strr)==4):\n",
    "    a = sorted(strr)\n",
    "    a = a[0]\n",
    "    a.sort()\n",
    "    for i in a:\n",
    "        print(i)\n",
    "elif (len(strr)==3):\n",
    "    sort = sorted(strr)\n",
    "    print(i[0])\n",
    "    \n",
    "\n",
    "      "
   ]
  },
  {
   "cell_type": "code",
   "execution_count": 3,
   "metadata": {},
   "outputs": [
    {
     "name": "stdout",
     "output_type": "stream",
     "text": [
      "John Reddy Vinoshna Sama\n",
      "John-Reddy-Vinoshna-Sama\n"
     ]
    }
   ],
   "source": [
    "### String Split and join\n",
    "def split_and_join(line):\n",
    "    x = line.split(\" \")\n",
    "    x = \"-\".join(x)\n",
    "    return x\n",
    "    \n",
    "\n",
    "if __name__ == '__main__':\n",
    "    line = input()\n",
    "    result = split_and_join(line)\n",
    "    print(result)"
   ]
  },
  {
   "cell_type": "code",
   "execution_count": 5,
   "metadata": {},
   "outputs": [
    {
     "name": "stdout",
     "output_type": "stream",
     "text": [
      "John\n",
      "Vinnu\n",
      "Hello John Vinnu ! You just delved into python\n"
     ]
    }
   ],
   "source": [
    "## What's Your Name?\n",
    "#Hello Ross Taylor! You just delved into python.\n",
    "\n",
    "first = input()\n",
    "last = input()\n",
    "print(\"Hello {} {} ! You just delved into python\".format(first,last))\n",
    "\n"
   ]
  },
  {
   "cell_type": "code",
   "execution_count": 51,
   "metadata": {},
   "outputs": [
    {
     "name": "stdout",
     "output_type": "stream",
     "text": [
      "abracpdabra\n"
     ]
    }
   ],
   "source": [
    "## Mutations\n",
    "string = \"abracadabra\"\n",
    "x = list(string)\n",
    "for i in range(len(x)):\n",
    "    if x[5] == \"a\":\n",
    "        x[5] = \"p\"\n",
    "y = \"\".join(x)\n",
    "print(y)"
   ]
  },
  {
   "cell_type": "code",
   "execution_count": 52,
   "metadata": {},
   "outputs": [
    {
     "name": "stdout",
     "output_type": "stream",
     "text": [
      "abracadabra\n",
      "5 a\n",
      "abracadabra\n"
     ]
    }
   ],
   "source": [
    "def mutate_string(string, position, character):\n",
    "    x = list(string)\n",
    "    for i in range(len(x)):\n",
    "        if x[position] == \"a\":\n",
    "            x[position] = character\n",
    "    y = \"\".join(x)\n",
    "    return y\n",
    "\n",
    "if __name__ == '__main__':\n",
    "    s = input()\n",
    "    i, c = input().split()\n",
    "    s_new = mutate_string(s, int(i), c)\n",
    "    print(s_new)"
   ]
  },
  {
   "cell_type": "code",
   "execution_count": 4,
   "metadata": {},
   "outputs": [
    {
     "name": "stdout",
     "output_type": "stream",
     "text": [
      "2 4 "
     ]
    }
   ],
   "source": [
    "string  = \"ABCDCDC\"\n",
    "pattern = \"CDC\"\n",
    "s = len(string)\n",
    "p = len(pattern)\n",
    "i = 0\n",
    "count = 0\n",
    "\n",
    "for j in range(1,6):\n",
    "    if string[i:p] == pattern[0:3]:\n",
    "        print(i, end = ' ')\n",
    "    i = i + 1\n",
    "    p = p + 1\n",
    "    if p>7:\n",
    "        break\n",
    "\n"
   ]
  },
  {
   "cell_type": "code",
   "execution_count": null,
   "metadata": {},
   "outputs": [],
   "source": []
  },
  {
   "cell_type": "code",
   "execution_count": null,
   "metadata": {},
   "outputs": [],
   "source": []
  },
  {
   "cell_type": "code",
   "execution_count": null,
   "metadata": {},
   "outputs": [],
   "source": []
  },
  {
   "cell_type": "code",
   "execution_count": null,
   "metadata": {},
   "outputs": [],
   "source": []
  }
 ],
 "metadata": {
  "kernelspec": {
   "display_name": "Python 3",
   "language": "python",
   "name": "python3"
  },
  "language_info": {
   "codemirror_mode": {
    "name": "ipython",
    "version": 3
   },
   "file_extension": ".py",
   "mimetype": "text/x-python",
   "name": "python",
   "nbconvert_exporter": "python",
   "pygments_lexer": "ipython3",
   "version": "3.7.6"
  }
 },
 "nbformat": 4,
 "nbformat_minor": 2
}
